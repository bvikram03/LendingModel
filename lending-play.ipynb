{
 "cells": [
  {
   "cell_type": "code",
   "execution_count": 13,
   "metadata": {},
   "outputs": [],
   "source": [
    "# import libraries, packages\n",
    "import numpy as np\n",
    "import matplotlib.pyplot as plt\n",
    "import scipy\n",
    "import math\n",
    "import scipy.optimize"
   ]
  },
  {
   "cell_type": "code",
   "execution_count": 8,
   "metadata": {},
   "outputs": [],
   "source": [
    "# borrower object\n",
    "# each borrower has a group membership, group creditworthiness, individual signal (theta)\n",
    "\n",
    "class Borrower:\n",
    "  def __init__(self, group, pi, theta):\n",
    "    self.group = group\n",
    "    # clean up constructor so assignment is easier for group membership      \n",
    "    self.pi = pi\n",
    "    self.theta = theta"
   ]
  },
  {
   "cell_type": "code",
   "execution_count": 66,
   "metadata": {},
   "outputs": [],
   "source": [
    "#parameters\n",
    "\n",
    "q = []\n",
    "# set for group u\n",
    "u = []\n",
    "\n",
    "# benefit of getting a loan to a borrower\n",
    "benefit = 10\n",
    "\n",
    "x_q = 0.75 # net return to lender if qualified borrower gets loan, q = qualified\n",
    "x_u = -0.25 # net loss to lender if unqualified borrower gets loan, u = unqualified\n",
    "\n",
    "ratio = abs(x_q / x_u) # ratio of net gain to loss\n",
    "\n",
    "# lender's beliefs about group probabilities of repayment\n",
    "pi_q = 0.2 \n",
    "pi_u = 0.1\n",
    "\n",
    "# change in lender's perceptions? (how creditworthiness improves)\n",
    "\n",
    "# INCOMPLETE cost to become creditworthy. Cost varies for each member but is the same distribution for the both groups\n",
    "cost = 0\n",
    "\n",
    "# INCOMPLETE fraction of workers that choose to become creditworthy G(c)"
   ]
  },
  {
   "cell_type": "markdown",
   "metadata": {},
   "source": [
    "Test space"
   ]
  },
  {
   "cell_type": "code",
   "execution_count": 74,
   "metadata": {},
   "outputs": [
    {
     "data": {
      "text/plain": [
       "3.0"
      ]
     },
     "execution_count": 74,
     "metadata": {},
     "output_type": "execute_result"
    }
   ],
   "source": [
    "tester_q = [Borrower(True, pi_q, 0.5),Borrower(True, pi_q, 0.7), Borrower(True, pi_q, 1)]\n",
    "tester_u = [Borrower(False, pi_u, 0),Borrower(False, pi_u, 0.2), Borrower(False, pi_u, 0.4)]\n",
    "\n",
    "signal_pdf(tester_u, 0)\n",
    "signal_pdf(tester_q, 0)\n",
    "\n",
    "likelihood_ratio(tester_q, tester_u, 0)\n",
    "\n"
   ]
  },
  {
   "cell_type": "markdown",
   "metadata": {},
   "source": [
    "Functions"
   ]
  },
  {
   "cell_type": "code",
   "execution_count": 78,
   "metadata": {},
   "outputs": [
    {
     "data": {
      "text/plain": [
       "0.4999997499999998"
      ]
     },
     "execution_count": 78,
     "metadata": {},
     "output_type": "execute_result"
    }
   ],
   "source": [
    "\n",
    "# probability signal does not exceed theta in F_q(theta) or F)q(theta)\n",
    "def signal_probability(q, given_theta):\n",
    "\n",
    "    if not 0 <= given_theta <= 1:\n",
    "        raise ValueError(\"Threshold must be between 0 and 1\")\n",
    "\n",
    "    count = sum(1 for individual in q if individual.theta <= given_theta)\n",
    "    probability = count / len(q) if q else 0.0\n",
    "\n",
    "    return probability\n",
    "\n",
    "\n",
    "# density functions for signal probability\n",
    "# helper function to generate the pdf\n",
    "def generate_pdf(group):\n",
    "    total_borrowers = len(group)\n",
    "    if total_borrowers == 0:\n",
    "        raise ValueError(\"The borrowers list is empty\")\n",
    "    \n",
    "\n",
    "    theta_counts = {}\n",
    "    for borrower in group:\n",
    "        theta = borrower.theta\n",
    "        if theta in theta_counts:\n",
    "            theta_counts[theta] += 1\n",
    "        else:\n",
    "            theta_counts[theta] = 1\n",
    "\n",
    "    # Convert counts to probabilities\n",
    "    pdf = {theta: count / total_borrowers for theta, count in theta_counts.items()}\n",
    "\n",
    "    return pdf\n",
    "\n",
    "# gives the specific pdf value of a group given theta\n",
    "def signal_pdf(group, given_theta):\n",
    "    if not 0 <= given_theta <= 1:\n",
    "        raise ValueError(\"given_theta must be between 0 and 1\")\n",
    "\n",
    "    # Generate the PDF\n",
    "    pdf = generate_pdf(group)\n",
    "\n",
    "    # Sum the probabilities for theta values less than x\n",
    "    sum_prob = sum(prob for theta, prob in pdf.items() if theta < given_theta)\n",
    "\n",
    "    return sum_prob\n",
    "\n",
    "# liklihood ratio at a given theta\n",
    "def likelihood_ratio(q, u, given_theta):\n",
    "    q_value = signal_pdf(q, given_theta)\n",
    "\n",
    "    if q_value == 0:\n",
    "        return 1\n",
    "\n",
    "    return signal_pdf(u, given_theta) / q_value\n",
    "    \n",
    "# Lender's posterior probability borrower is qualified\n",
    "def qualified_prob(borrower, q, u):\n",
    "    pi = borrower.pi\n",
    "    theta = borrower.theta\n",
    "\n",
    "    result = 1 / (1+((1-pi/pi)) * likelihood_ratio(q, u, theta))\n",
    "\n",
    "# Lender's expected payoff from lending to anyone\n",
    "def payoff(borrower, q, u):\n",
    "    return qualified_prob(borrower, q, u) * x_q - (1-qualified_prob(borrower, q, u)) * x_u\n",
    "\n",
    "\n",
    "# lender lends iff\n",
    "def employer_assignment(x_q, x_u, q, u, given_theta):\n",
    "    ratio = x_q / x_u\n",
    "\n",
    "    return ratio >= (1-likelihood_ratio(q, u, given_theta))/(likelihood_ratio(q, u, given_theta))\n",
    "\n",
    "\n",
    "# how employer determines the standard s*\n",
    "# minimum value of theta such that r > [(1-pi/pi)*liklihood]\n",
    "\n",
    "def standard(q, u, pi, ratio, theta_bounds=(0, 1), tol=1e-6):\n",
    "    \"\"\"\n",
    "    Finds the minimum value of theta such that the given inequality holds.\n",
    "\n",
    "    Parameters:\n",
    "    pi (float): The given pi value.\n",
    "    ratio (float): The ratio to compare against.\n",
    "    theta_bounds (tuple): A tuple of (min_theta, max_theta) representing the bounds within which to search.\n",
    "    tol (float): The tolerance for the numerical solver.\n",
    "\n",
    "    Returns:\n",
    "    float: The minimum value of theta satisfying the inequality.\n",
    "    \"\"\"\n",
    "    if not 0 <= pi <= 1:\n",
    "        raise ValueError(\"pi must be between 0 and 1\")\n",
    "    \n",
    "    # The value we are comparing against\n",
    "    compare_value = (1 - pi) / pi\n",
    "\n",
    "    # Define the function for the root finding\n",
    "    def inequality(theta):\n",
    "        return ratio - compare_value * likelihood_ratio(q, u, theta)\n",
    "    \n",
    "    # FLAG if there's no solution, then the lender lends to no one, and the credit standard is `100%`\n",
    "    if np.sign(ratio - compare_value * likelihood_ratio(q, u, 0)) == np.sign(ratio - compare_value * likelihood_ratio(q, u, 1)):\n",
    "        return 1\n",
    "\n",
    "    # Use a numerical solver to find the root within the given bounds\n",
    "    result = scipy.optimize.root_scalar(inequality, bracket=theta_bounds, method='brentq', xtol=tol)\n",
    "\n",
    "    if not result.converged:\n",
    "        raise ValueError(\"Solver did not converge to a solution\")\n",
    "\n",
    "    return result.root\n",
    "    "
   ]
  },
  {
   "cell_type": "code",
   "execution_count": null,
   "metadata": {},
   "outputs": [],
   "source": []
  },
  {
   "cell_type": "code",
   "execution_count": null,
   "metadata": {},
   "outputs": [],
   "source": [
    "# expected benefit of becoming creditworthy for borrower facing a given standard:\n",
    "\n",
    "def expected_benefit(q, u, standard):\n",
    "    return benefit * (signal_probability(u, standard) - signal_probability(q, standard))\n",
    "\n",
    "\n",
    "# TO DO\n",
    "# add prob of assignment given group function\n",
    "# add net payoff function\n",
    "# code simulation element\n",
    "# how to factor in increasing credit rating? -- increases Pi_w and pi_b by some amount"
   ]
  }
 ],
 "metadata": {
  "kernelspec": {
   "display_name": "Python 3 (ipykernel)",
   "language": "python",
   "name": "python3"
  },
  "language_info": {
   "codemirror_mode": {
    "name": "ipython",
    "version": 3
   },
   "file_extension": ".py",
   "mimetype": "text/x-python",
   "name": "python",
   "nbconvert_exporter": "python",
   "pygments_lexer": "ipython3",
   "version": "3.9.6"
  }
 },
 "nbformat": 4,
 "nbformat_minor": 4
}
